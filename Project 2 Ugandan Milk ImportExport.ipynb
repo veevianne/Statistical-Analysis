{
 "cells": [
  {
   "cell_type": "markdown",
   "metadata": {},
   "source": [
    "## Project 2: Exploring the Uganda's milk imports and exports\n",
    "A country's economy depends, sometimes heavily, on its exports and imports. The United Nations Comtrade database provides data on global trade. It will be used to analyse the Uganda's imports and exports of milk in 2015:\n",
    "\n",
    "* How much does the Uganda export and import and is the balance positive (more exports than imports)?\n",
    "* Which are the main trading partners, i.e. from/to which countries does the Uganda import/export the most?\n",
    "* Which are the regular customers, i.e. which countries buy milk from the Uganda every month?\n",
    "* Which countries does the Uganda both import from and export to?"
   ]
  },
  {
   "cell_type": "code",
   "execution_count": 1,
   "metadata": {},
   "outputs": [],
   "source": [
    "import warnings\n",
    "warnings.simplefilter('ignore', FutureWarning)\n",
    "\n",
    "from pandas import *\n",
    "%matplotlib inline"
   ]
  },
  {
   "cell_type": "markdown",
   "metadata": {},
   "source": [
    "## Getting and preparing the data\n",
    "\n",
    "The data is obtained from the [United Nations Comtrade](http://comtrade.un.org/data/) website, by selecting the following configuration:\n",
    "\n",
    "- Type of Product: goods\n",
    "- Frequency: monthly \n",
    "- Periods: Jan - May 2018\n",
    "- Reporter: Uganda\n",
    "- Partners: all\n",
    "- Flows: imports and exports\n",
    "- HS (as reported) commodity codes: 401 (Milk and cream, neither concentrated nor sweetened) and 402 (Milk and cream, concentrated or sweetened)"
   ]
  },
  {
   "cell_type": "code",
   "execution_count": 2,
   "metadata": {},
   "outputs": [],
   "source": [
    "LOCATION = 'comrade_milk_ug_jan_dec_2015.csv'"
   ]
  },
  {
   "cell_type": "markdown",
   "metadata": {},
   "source": [
    "On reading in the data, the commodity code has to be read as a string, to not lose the leading zero."
   ]
  },
  {
   "cell_type": "code",
   "execution_count": 3,
   "metadata": {},
   "outputs": [
    {
     "data": {
      "text/html": [
       "<div>\n",
       "<style scoped>\n",
       "    .dataframe tbody tr th:only-of-type {\n",
       "        vertical-align: middle;\n",
       "    }\n",
       "\n",
       "    .dataframe tbody tr th {\n",
       "        vertical-align: top;\n",
       "    }\n",
       "\n",
       "    .dataframe thead th {\n",
       "        text-align: right;\n",
       "    }\n",
       "</style>\n",
       "<table border=\"1\" class=\"dataframe\">\n",
       "  <thead>\n",
       "    <tr style=\"text-align: right;\">\n",
       "      <th></th>\n",
       "      <th>Classification</th>\n",
       "      <th>Year</th>\n",
       "      <th>Period</th>\n",
       "      <th>Period Desc.</th>\n",
       "      <th>Aggregate Level</th>\n",
       "      <th>Is Leaf Code</th>\n",
       "      <th>Trade Flow Code</th>\n",
       "      <th>Trade Flow</th>\n",
       "      <th>Reporter Code</th>\n",
       "      <th>Reporter</th>\n",
       "      <th>...</th>\n",
       "      <th>Qty</th>\n",
       "      <th>Alt Qty Unit Code</th>\n",
       "      <th>Alt Qty Unit</th>\n",
       "      <th>Alt Qty</th>\n",
       "      <th>Netweight (kg)</th>\n",
       "      <th>Gross weight (kg)</th>\n",
       "      <th>Trade Value (US$)</th>\n",
       "      <th>CIF Trade Value (US$)</th>\n",
       "      <th>FOB Trade Value (US$)</th>\n",
       "      <th>Flag</th>\n",
       "    </tr>\n",
       "  </thead>\n",
       "  <tbody>\n",
       "    <tr>\n",
       "      <td>289</td>\n",
       "      <td>HS</td>\n",
       "      <td>2015</td>\n",
       "      <td>201512</td>\n",
       "      <td>Dec-15</td>\n",
       "      <td>4</td>\n",
       "      <td>0</td>\n",
       "      <td>2</td>\n",
       "      <td>Exports</td>\n",
       "      <td>800</td>\n",
       "      <td>Uganda</td>\n",
       "      <td>...</td>\n",
       "      <td>NaN</td>\n",
       "      <td>NaN</td>\n",
       "      <td>NaN</td>\n",
       "      <td>NaN</td>\n",
       "      <td>3000.0</td>\n",
       "      <td>NaN</td>\n",
       "      <td>991</td>\n",
       "      <td>NaN</td>\n",
       "      <td>NaN</td>\n",
       "      <td>0</td>\n",
       "    </tr>\n",
       "    <tr>\n",
       "      <td>290</td>\n",
       "      <td>HS</td>\n",
       "      <td>2015</td>\n",
       "      <td>201512</td>\n",
       "      <td>Dec-15</td>\n",
       "      <td>4</td>\n",
       "      <td>0</td>\n",
       "      <td>2</td>\n",
       "      <td>Exports</td>\n",
       "      <td>800</td>\n",
       "      <td>Uganda</td>\n",
       "      <td>...</td>\n",
       "      <td>NaN</td>\n",
       "      <td>NaN</td>\n",
       "      <td>NaN</td>\n",
       "      <td>NaN</td>\n",
       "      <td>18930.0</td>\n",
       "      <td>NaN</td>\n",
       "      <td>56999</td>\n",
       "      <td>NaN</td>\n",
       "      <td>NaN</td>\n",
       "      <td>0</td>\n",
       "    </tr>\n",
       "  </tbody>\n",
       "</table>\n",
       "<p>2 rows × 35 columns</p>\n",
       "</div>"
      ],
      "text/plain": [
       "    Classification  Year  Period Period Desc.  Aggregate Level  Is Leaf Code  \\\n",
       "289             HS  2015  201512       Dec-15                4             0   \n",
       "290             HS  2015  201512       Dec-15                4             0   \n",
       "\n",
       "     Trade Flow Code Trade Flow  Reporter Code Reporter  ...  Qty  \\\n",
       "289                2    Exports            800   Uganda  ...  NaN   \n",
       "290                2    Exports            800   Uganda  ...  NaN   \n",
       "\n",
       "     Alt Qty Unit Code Alt Qty Unit  Alt Qty  Netweight (kg)  \\\n",
       "289                NaN          NaN      NaN          3000.0   \n",
       "290                NaN          NaN      NaN         18930.0   \n",
       "\n",
       "     Gross weight (kg)  Trade Value (US$)  CIF Trade Value (US$)  \\\n",
       "289                NaN                991                    NaN   \n",
       "290                NaN              56999                    NaN   \n",
       "\n",
       "     FOB Trade Value (US$)  Flag  \n",
       "289                    NaN     0  \n",
       "290                    NaN     0  \n",
       "\n",
       "[2 rows x 35 columns]"
      ]
     },
     "execution_count": 3,
     "metadata": {},
     "output_type": "execute_result"
    }
   ],
   "source": [
    "import pandas as pd\n",
    "milk = pd.read_csv(LOCATION, dtype={'Commodity Code':str})\n",
    "milk.tail(2)"
   ]
  },
  {
   "cell_type": "markdown",
   "metadata": {},
   "source": [
    "The data only covers the first five months of 2015. Most columns are irrelevant for this analysis, or contain always the same value, like the year and reporter columns. The commodity code is transformed into a short but descriptive text and only the relevant columns are selected."
   ]
  },
  {
   "cell_type": "code",
   "execution_count": 4,
   "metadata": {},
   "outputs": [
    {
     "data": {
      "text/html": [
       "<div>\n",
       "<style scoped>\n",
       "    .dataframe tbody tr th:only-of-type {\n",
       "        vertical-align: middle;\n",
       "    }\n",
       "\n",
       "    .dataframe tbody tr th {\n",
       "        vertical-align: top;\n",
       "    }\n",
       "\n",
       "    .dataframe thead th {\n",
       "        text-align: right;\n",
       "    }\n",
       "</style>\n",
       "<table border=\"1\" class=\"dataframe\">\n",
       "  <thead>\n",
       "    <tr style=\"text-align: right;\">\n",
       "      <th></th>\n",
       "      <th>Period</th>\n",
       "      <th>Partner</th>\n",
       "      <th>Trade Flow</th>\n",
       "      <th>Milk and cream</th>\n",
       "      <th>Trade Value (US$)</th>\n",
       "    </tr>\n",
       "  </thead>\n",
       "  <tbody>\n",
       "    <tr>\n",
       "      <td>0</td>\n",
       "      <td>201501</td>\n",
       "      <td>World</td>\n",
       "      <td>Imports</td>\n",
       "      <td>unprocessed</td>\n",
       "      <td>3671</td>\n",
       "    </tr>\n",
       "    <tr>\n",
       "      <td>1</td>\n",
       "      <td>201501</td>\n",
       "      <td>World</td>\n",
       "      <td>Exports</td>\n",
       "      <td>unprocessed</td>\n",
       "      <td>473724</td>\n",
       "    </tr>\n",
       "    <tr>\n",
       "      <td>2</td>\n",
       "      <td>201501</td>\n",
       "      <td>Burundi</td>\n",
       "      <td>Exports</td>\n",
       "      <td>unprocessed</td>\n",
       "      <td>19996</td>\n",
       "    </tr>\n",
       "    <tr>\n",
       "      <td>3</td>\n",
       "      <td>201501</td>\n",
       "      <td>Denmark</td>\n",
       "      <td>Imports</td>\n",
       "      <td>unprocessed</td>\n",
       "      <td>1234</td>\n",
       "    </tr>\n",
       "    <tr>\n",
       "      <td>4</td>\n",
       "      <td>201501</td>\n",
       "      <td>France</td>\n",
       "      <td>Imports</td>\n",
       "      <td>unprocessed</td>\n",
       "      <td>715</td>\n",
       "    </tr>\n",
       "  </tbody>\n",
       "</table>\n",
       "</div>"
      ],
      "text/plain": [
       "   Period  Partner Trade Flow Milk and cream  Trade Value (US$)\n",
       "0  201501    World    Imports    unprocessed               3671\n",
       "1  201501    World    Exports    unprocessed             473724\n",
       "2  201501  Burundi    Exports    unprocessed              19996\n",
       "3  201501  Denmark    Imports    unprocessed               1234\n",
       "4  201501   France    Imports    unprocessed                715"
      ]
     },
     "execution_count": 4,
     "metadata": {},
     "output_type": "execute_result"
    }
   ],
   "source": [
    "def milkType(code):\n",
    "    if code == '401': # neither concentrated nor sweetened\n",
    "        return 'unprocessed'\n",
    "    if code == '402': # concentrated or sweetened\n",
    "        return 'processed' \n",
    "    return 'unknown'\n",
    "\n",
    "COMMODITY = 'Milk and cream'\n",
    "milk[COMMODITY] = milk['Commodity Code'].apply(milkType)\n",
    "MONTH = 'Period'\n",
    "PARTNER = 'Partner'\n",
    "FLOW = 'Trade Flow'\n",
    "VALUE = 'Trade Value (US$)'\n",
    "headings = [MONTH, PARTNER, FLOW, COMMODITY, VALUE]\n",
    "milk = milk[headings]\n",
    "milk.head()"
   ]
  },
  {
   "cell_type": "markdown",
   "metadata": {},
   "source": [
    "The data contains the total imports and exports per month, under the 'World' partner. Those rows are removed to keep only the per-country data."
   ]
  },
  {
   "cell_type": "code",
   "execution_count": 5,
   "metadata": {},
   "outputs": [
    {
     "data": {
      "text/html": [
       "<div>\n",
       "<style scoped>\n",
       "    .dataframe tbody tr th:only-of-type {\n",
       "        vertical-align: middle;\n",
       "    }\n",
       "\n",
       "    .dataframe tbody tr th {\n",
       "        vertical-align: top;\n",
       "    }\n",
       "\n",
       "    .dataframe thead th {\n",
       "        text-align: right;\n",
       "    }\n",
       "</style>\n",
       "<table border=\"1\" class=\"dataframe\">\n",
       "  <thead>\n",
       "    <tr style=\"text-align: right;\">\n",
       "      <th></th>\n",
       "      <th>Period</th>\n",
       "      <th>Partner</th>\n",
       "      <th>Trade Flow</th>\n",
       "      <th>Milk and cream</th>\n",
       "      <th>Trade Value (US$)</th>\n",
       "    </tr>\n",
       "  </thead>\n",
       "  <tbody>\n",
       "    <tr>\n",
       "      <td>2</td>\n",
       "      <td>201501</td>\n",
       "      <td>Burundi</td>\n",
       "      <td>Exports</td>\n",
       "      <td>unprocessed</td>\n",
       "      <td>19996</td>\n",
       "    </tr>\n",
       "    <tr>\n",
       "      <td>3</td>\n",
       "      <td>201501</td>\n",
       "      <td>Denmark</td>\n",
       "      <td>Imports</td>\n",
       "      <td>unprocessed</td>\n",
       "      <td>1234</td>\n",
       "    </tr>\n",
       "    <tr>\n",
       "      <td>4</td>\n",
       "      <td>201501</td>\n",
       "      <td>France</td>\n",
       "      <td>Imports</td>\n",
       "      <td>unprocessed</td>\n",
       "      <td>715</td>\n",
       "    </tr>\n",
       "    <tr>\n",
       "      <td>5</td>\n",
       "      <td>201501</td>\n",
       "      <td>Rwanda</td>\n",
       "      <td>Exports</td>\n",
       "      <td>unprocessed</td>\n",
       "      <td>89479</td>\n",
       "    </tr>\n",
       "    <tr>\n",
       "      <td>6</td>\n",
       "      <td>201501</td>\n",
       "      <td>South Africa</td>\n",
       "      <td>Imports</td>\n",
       "      <td>unprocessed</td>\n",
       "      <td>242</td>\n",
       "    </tr>\n",
       "  </tbody>\n",
       "</table>\n",
       "</div>"
      ],
      "text/plain": [
       "   Period       Partner Trade Flow Milk and cream  Trade Value (US$)\n",
       "2  201501       Burundi    Exports    unprocessed              19996\n",
       "3  201501       Denmark    Imports    unprocessed               1234\n",
       "4  201501        France    Imports    unprocessed                715\n",
       "5  201501        Rwanda    Exports    unprocessed              89479\n",
       "6  201501  South Africa    Imports    unprocessed                242"
      ]
     },
     "execution_count": 5,
     "metadata": {},
     "output_type": "execute_result"
    }
   ],
   "source": [
    "milk = milk[milk[PARTNER] != 'World']\n",
    "milk.head()"
   ]
  },
  {
   "cell_type": "code",
   "execution_count": 6,
   "metadata": {},
   "outputs": [
    {
     "data": {
      "text/html": [
       "<div>\n",
       "<style scoped>\n",
       "    .dataframe tbody tr th:only-of-type {\n",
       "        vertical-align: middle;\n",
       "    }\n",
       "\n",
       "    .dataframe tbody tr th {\n",
       "        vertical-align: top;\n",
       "    }\n",
       "\n",
       "    .dataframe thead th {\n",
       "        text-align: right;\n",
       "    }\n",
       "</style>\n",
       "<table border=\"1\" class=\"dataframe\">\n",
       "  <thead>\n",
       "    <tr style=\"text-align: right;\">\n",
       "      <th></th>\n",
       "      <th>Period</th>\n",
       "      <th>Partner</th>\n",
       "      <th>Trade Flow</th>\n",
       "      <th>Milk and cream</th>\n",
       "      <th>Trade Value (US$)</th>\n",
       "    </tr>\n",
       "  </thead>\n",
       "  <tbody>\n",
       "    <tr>\n",
       "      <td>285</td>\n",
       "      <td>201512</td>\n",
       "      <td>United Rep. of Tanzania</td>\n",
       "      <td>Exports</td>\n",
       "      <td>processed</td>\n",
       "      <td>24300</td>\n",
       "    </tr>\n",
       "    <tr>\n",
       "      <td>286</td>\n",
       "      <td>201512</td>\n",
       "      <td>South Sudan</td>\n",
       "      <td>Exports</td>\n",
       "      <td>processed</td>\n",
       "      <td>8064</td>\n",
       "    </tr>\n",
       "    <tr>\n",
       "      <td>287</td>\n",
       "      <td>201512</td>\n",
       "      <td>Rwanda</td>\n",
       "      <td>Exports</td>\n",
       "      <td>processed</td>\n",
       "      <td>64025</td>\n",
       "    </tr>\n",
       "    <tr>\n",
       "      <td>289</td>\n",
       "      <td>201512</td>\n",
       "      <td>Burundi</td>\n",
       "      <td>Exports</td>\n",
       "      <td>processed</td>\n",
       "      <td>991</td>\n",
       "    </tr>\n",
       "    <tr>\n",
       "      <td>290</td>\n",
       "      <td>201512</td>\n",
       "      <td>Dem.Rep. of the Congo</td>\n",
       "      <td>Exports</td>\n",
       "      <td>processed</td>\n",
       "      <td>56999</td>\n",
       "    </tr>\n",
       "  </tbody>\n",
       "</table>\n",
       "</div>"
      ],
      "text/plain": [
       "     Period                  Partner Trade Flow Milk and cream  \\\n",
       "285  201512  United Rep. of Tanzania    Exports      processed   \n",
       "286  201512              South Sudan    Exports      processed   \n",
       "287  201512                   Rwanda    Exports      processed   \n",
       "289  201512                  Burundi    Exports      processed   \n",
       "290  201512    Dem.Rep. of the Congo    Exports      processed   \n",
       "\n",
       "     Trade Value (US$)  \n",
       "285              24300  \n",
       "286               8064  \n",
       "287              64025  \n",
       "289                991  \n",
       "290              56999  "
      ]
     },
     "execution_count": 6,
     "metadata": {},
     "output_type": "execute_result"
    }
   ],
   "source": [
    "milk.tail()"
   ]
  },
  {
   "cell_type": "markdown",
   "metadata": {},
   "source": [
    "## Total trade flow\n",
    "To answer the first question, 'how much does the Uganda export and import and is the balance positive (more exports than imports)?', the dataframe is split into two groups: exports from the Uganda and imports into the Uganda. The trade values within each group are summed up to get the total trading."
   ]
  },
  {
   "cell_type": "code",
   "execution_count": 7,
   "metadata": {},
   "outputs": [
    {
     "data": {
      "text/plain": [
       "Trade Flow\n",
       "Exports    35275160\n",
       "Imports     2259310\n",
       "Name: Trade Value (US$), dtype: int64"
      ]
     },
     "execution_count": 7,
     "metadata": {},
     "output_type": "execute_result"
    }
   ],
   "source": [
    "grouped = milk.groupby([FLOW])\n",
    "grouped[VALUE].aggregate(sum)"
   ]
  },
  {
   "cell_type": "markdown",
   "metadata": {},
   "source": [
    "This shows a trade surplus of over 30 million dollars."
   ]
  },
  {
   "cell_type": "markdown",
   "metadata": {},
   "source": [
    "## Main trade partners\n",
    "\n",
    "To address the second question, 'Which are the main trading partners, i.e. from/to which countries does the Uganda import/export the most?', the dataframe is split by country instead, and then each group aggregated for the total trade value. This is done separately for imports and exports. The result is sorted in descending order so that the main partners are at the top."
   ]
  },
  {
   "cell_type": "code",
   "execution_count": 8,
   "metadata": {},
   "outputs": [
    {
     "name": "stdout",
     "output_type": "stream",
     "text": [
      "The Uganda imports from 24 countries.\n",
      "The 5 biggest exporters to the Uganda are:\n"
     ]
    },
    {
     "data": {
      "text/plain": [
       "Partner\n",
       "Kenya                   1020463\n",
       "Netherlands              411429\n",
       "United Arab Emirates     243939\n",
       "Oman                     199876\n",
       "South Africa             126118\n",
       "Name: Trade Value (US$), dtype: int64"
      ]
     },
     "execution_count": 8,
     "metadata": {},
     "output_type": "execute_result"
    }
   ],
   "source": [
    "imports = milk[milk[FLOW] == 'Imports']\n",
    "grouped = imports.groupby([PARTNER])\n",
    "print('The Uganda imports from', len(grouped), 'countries.')\n",
    "print('The 5 biggest exporters to the Uganda are:')\n",
    "totalImports = grouped[VALUE].aggregate(sum).sort_values(inplace=False,ascending=False)\n",
    "totalImports.head()"
   ]
  },
  {
   "cell_type": "markdown",
   "metadata": {},
   "source": [
    "The export values can be plotted as a bar chart, making differences between countries easier to see."
   ]
  },
  {
   "cell_type": "code",
   "execution_count": 9,
   "metadata": {},
   "outputs": [
    {
     "data": {
      "text/plain": [
       "<matplotlib.axes._subplots.AxesSubplot at 0x1c3c850eac8>"
      ]
     },
     "execution_count": 9,
     "metadata": {},
     "output_type": "execute_result"
    },
    {
     "data": {
      "image/png": "[encoded data removed]",
      "text/plain": [
       "<Figure size 432x288 with 1 Axes>"
      ]
     },
     "metadata": {
      "needs_background": "light"
     },
     "output_type": "display_data"
    }
   ],
   "source": [
    "totalImports.head(10).plot(kind='barh')"
   ]
  },
  {
   "cell_type": "markdown",
   "metadata": {},
   "source": [
    "We can deduce that Switzerland is the lowest partnering company of milk to Uganda for imports."
   ]
  },
  {
   "cell_type": "code",
   "execution_count": 10,
   "metadata": {},
   "outputs": [
    {
     "name": "stdout",
     "output_type": "stream",
     "text": [
      "The Uganda exports to 10 countries.\n",
      "The 5 biggest importers from the Uganda are:\n"
     ]
    },
    {
     "data": {
      "text/plain": [
       "Partner\n",
       "Kenya                      30237033\n",
       "South Sudan                 2533575\n",
       "Rwanda                       869466\n",
       "United Rep. of Tanzania      533366\n",
       "Japan                        446596\n",
       "Name: Trade Value (US$), dtype: int64"
      ]
     },
     "execution_count": 10,
     "metadata": {},
     "output_type": "execute_result"
    }
   ],
   "source": [
    "exports = milk[milk[FLOW] == 'Exports']\n",
    "grouped = exports.groupby([PARTNER])\n",
    "print('The Uganda exports to', len(grouped), 'countries.')\n",
    "print('The 5 biggest importers from the Uganda are:')\n",
    "grouped[VALUE].aggregate(sum).sort_values(ascending=False,inplace=False).head()"
   ]
  },
  {
   "cell_type": "markdown",
   "metadata": {},
   "source": [
    "## Regular importers\n",
    "\n",
    "Given that there are two commodities, the third question, 'Which are the regular customers, i.e. which countries buy milk from the Uganda every month?', is meant in the sense that a regular customer imports both commodities every month. This means that if the exports dataframe is grouped by country, each group has exactly ten rows (two commodities bought each of the five months). To see the countries, only the first month of one commodity has to be listed, as by definition it's the same countries every month and for the other commodity."
   ]
  },
  {
   "cell_type": "code",
   "execution_count": 11,
   "metadata": {},
   "outputs": [
    {
     "name": "stdout",
     "output_type": "stream",
     "text": [
      "     Period Partner Trade Flow Milk and cream  Trade Value (US$)\n",
      "5    201501  Rwanda    Exports    unprocessed              89479\n",
      "15   201502  Rwanda    Exports    unprocessed              40316\n",
      "28   201501  Rwanda    Exports      processed              28170\n",
      "30   201501   Kenya    Exports      processed             164116\n",
      "46   201502  Rwanda    Exports      processed               9870\n",
      "53   201503   Kenya    Exports    unprocessed             427005\n",
      "54   201503  Rwanda    Exports    unprocessed              60944\n",
      "62   201504   Kenya    Exports    unprocessed             164518\n",
      "65   201504  Rwanda    Exports    unprocessed              55548\n",
      "81   201503   Kenya    Exports      processed            2889812\n",
      "93   201504  Rwanda    Exports      processed               8794\n",
      "96   201504   Kenya    Exports      processed             491255\n",
      "102  201505   Kenya    Exports    unprocessed             823719\n",
      "104  201505  Rwanda    Exports    unprocessed              51333\n",
      "115  201506   Kenya    Exports    unprocessed            1329559\n",
      "117  201506  Rwanda    Exports    unprocessed              58566\n",
      "133  201505   Kenya    Exports      processed            4121189\n",
      "134  201505  Rwanda    Exports      processed             105002\n",
      "145  201506  Rwanda    Exports      processed               1898\n",
      "146  201506   Kenya    Exports      processed            4838396\n",
      "153  201507   Kenya    Exports    unprocessed            1588589\n",
      "154  201507  Rwanda    Exports    unprocessed              12670\n",
      "163  201508   Kenya    Exports    unprocessed            1347178\n",
      "164  201508  Rwanda    Exports    unprocessed              77258\n",
      "180  201507   Kenya    Exports      processed            4975538\n",
      "181  201507  Rwanda    Exports      processed              32000\n",
      "193  201508   Kenya    Exports      processed            1569400\n",
      "199  201509   Kenya    Exports    unprocessed             708175\n",
      "200  201509  Rwanda    Exports    unprocessed              46005\n",
      "212  201509   Kenya    Exports      processed            1748002\n",
      "223  201510   Kenya    Exports    unprocessed             748874\n",
      "224  201510  Rwanda    Exports    unprocessed              39260\n",
      "240  201510   Kenya    Exports      processed             313792\n",
      "247  201511   Kenya    Exports    unprocessed             691882\n",
      "248  201511  Rwanda    Exports    unprocessed              43399\n",
      "260  201511  Rwanda    Exports      processed               2364\n",
      "261  201511   Kenya    Exports      processed             624220\n",
      "270  201512   Kenya    Exports    unprocessed             671814\n",
      "271  201512  Rwanda    Exports    unprocessed              42565\n",
      "287  201512  Rwanda    Exports      processed              64025\n"
     ]
    },
    {
     "data": {
      "text/html": [
       "<div>\n",
       "<style scoped>\n",
       "    .dataframe tbody tr th:only-of-type {\n",
       "        vertical-align: middle;\n",
       "    }\n",
       "\n",
       "    .dataframe tbody tr th {\n",
       "        vertical-align: top;\n",
       "    }\n",
       "\n",
       "    .dataframe thead th {\n",
       "        text-align: right;\n",
       "    }\n",
       "</style>\n",
       "<table border=\"1\" class=\"dataframe\">\n",
       "  <thead>\n",
       "    <tr style=\"text-align: right;\">\n",
       "      <th></th>\n",
       "      <th>Period</th>\n",
       "      <th>Partner</th>\n",
       "      <th>Trade Flow</th>\n",
       "      <th>Milk and cream</th>\n",
       "      <th>Trade Value (US$)</th>\n",
       "    </tr>\n",
       "  </thead>\n",
       "  <tbody>\n",
       "    <tr>\n",
       "      <td>28</td>\n",
       "      <td>201501</td>\n",
       "      <td>Rwanda</td>\n",
       "      <td>Exports</td>\n",
       "      <td>processed</td>\n",
       "      <td>28170</td>\n",
       "    </tr>\n",
       "    <tr>\n",
       "      <td>30</td>\n",
       "      <td>201501</td>\n",
       "      <td>Kenya</td>\n",
       "      <td>Exports</td>\n",
       "      <td>processed</td>\n",
       "      <td>164116</td>\n",
       "    </tr>\n",
       "  </tbody>\n",
       "</table>\n",
       "</div>"
      ],
      "text/plain": [
       "    Period Partner Trade Flow Milk and cream  Trade Value (US$)\n",
       "28  201501  Rwanda    Exports      processed              28170\n",
       "30  201501   Kenya    Exports      processed             164116"
      ]
     },
     "execution_count": 11,
     "metadata": {},
     "output_type": "execute_result"
    }
   ],
   "source": [
    "def buysEveryMonth(group):\n",
    "    reply = len(group) == 20\n",
    "    return reply\n",
    "\n",
    "grouped = exports.groupby([PARTNER])\n",
    "regular = grouped.filter(buysEveryMonth)\n",
    "print(regular)\n",
    "regular[(regular[MONTH] == 201501) & (regular[COMMODITY] == 'processed')]\n",
    "\n"
   ]
  },
  {
   "cell_type": "markdown",
   "metadata": {},
   "source": [
    "Just over 5% of the total Uganda exports are due to these regular customers."
   ]
  },
  {
   "cell_type": "code",
   "execution_count": 12,
   "metadata": {},
   "outputs": [
    {
     "data": {
      "text/plain": [
       "0.8818244623128569"
      ]
     },
     "execution_count": 12,
     "metadata": {},
     "output_type": "execute_result"
    }
   ],
   "source": [
    "regular[VALUE].sum() / exports[VALUE].sum()"
   ]
  },
  {
   "cell_type": "markdown",
   "metadata": {},
   "source": [
    "## Bi-directional trade\n",
    "\n",
    "To address the fourth question, \n",
    "'Which countries does the Uganda both import from and export to?', a pivot table is used to list the total export and import value for each country. "
   ]
  },
  {
   "cell_type": "code",
   "execution_count": 13,
   "metadata": {},
   "outputs": [
    {
     "data": {
      "text/html": [
       "<div>\n",
       "<style scoped>\n",
       "    .dataframe tbody tr th:only-of-type {\n",
       "        vertical-align: middle;\n",
       "    }\n",
       "\n",
       "    .dataframe tbody tr th {\n",
       "        vertical-align: top;\n",
       "    }\n",
       "\n",
       "    .dataframe thead th {\n",
       "        text-align: right;\n",
       "    }\n",
       "</style>\n",
       "<table border=\"1\" class=\"dataframe\">\n",
       "  <thead>\n",
       "    <tr style=\"text-align: right;\">\n",
       "      <th>Trade Flow</th>\n",
       "      <th>Exports</th>\n",
       "      <th>Imports</th>\n",
       "    </tr>\n",
       "    <tr>\n",
       "      <th>Partner</th>\n",
       "      <th></th>\n",
       "      <th></th>\n",
       "    </tr>\n",
       "  </thead>\n",
       "  <tbody>\n",
       "    <tr>\n",
       "      <td>Australia</td>\n",
       "      <td>NaN</td>\n",
       "      <td>17.0</td>\n",
       "    </tr>\n",
       "    <tr>\n",
       "      <td>Burundi</td>\n",
       "      <td>262905.0</td>\n",
       "      <td>NaN</td>\n",
       "    </tr>\n",
       "    <tr>\n",
       "      <td>China</td>\n",
       "      <td>NaN</td>\n",
       "      <td>5179.0</td>\n",
       "    </tr>\n",
       "    <tr>\n",
       "      <td>Dem.Rep. of the Congo</td>\n",
       "      <td>188248.0</td>\n",
       "      <td>48.0</td>\n",
       "    </tr>\n",
       "    <tr>\n",
       "      <td>Denmark</td>\n",
       "      <td>NaN</td>\n",
       "      <td>3780.0</td>\n",
       "    </tr>\n",
       "  </tbody>\n",
       "</table>\n",
       "</div>"
      ],
      "text/plain": [
       "Trade Flow              Exports  Imports\n",
       "Partner                                 \n",
       "Australia                   NaN     17.0\n",
       "Burundi                262905.0      NaN\n",
       "China                       NaN   5179.0\n",
       "Dem.Rep. of the Congo  188248.0     48.0\n",
       "Denmark                     NaN   3780.0"
      ]
     },
     "execution_count": 13,
     "metadata": {},
     "output_type": "execute_result"
    }
   ],
   "source": [
    "countries = pivot_table(milk, index=[PARTNER], columns=[FLOW], \n",
    "                        values=VALUE, aggfunc=sum)\n",
    "countries.head()"
   ]
  },
  {
   "cell_type": "markdown",
   "metadata": {},
   "source": [
    "Removing the rows with a missing value will result in only those countries with bi-directional trade flow with the Uganda."
   ]
  },
  {
   "cell_type": "code",
   "execution_count": 14,
   "metadata": {},
   "outputs": [
    {
     "data": {
      "text/html": [
       "<div>\n",
       "<style scoped>\n",
       "    .dataframe tbody tr th:only-of-type {\n",
       "        vertical-align: middle;\n",
       "    }\n",
       "\n",
       "    .dataframe tbody tr th {\n",
       "        vertical-align: top;\n",
       "    }\n",
       "\n",
       "    .dataframe thead th {\n",
       "        text-align: right;\n",
       "    }\n",
       "</style>\n",
       "<table border=\"1\" class=\"dataframe\">\n",
       "  <thead>\n",
       "    <tr style=\"text-align: right;\">\n",
       "      <th>Trade Flow</th>\n",
       "      <th>Exports</th>\n",
       "      <th>Imports</th>\n",
       "    </tr>\n",
       "    <tr>\n",
       "      <th>Partner</th>\n",
       "      <th></th>\n",
       "      <th></th>\n",
       "    </tr>\n",
       "  </thead>\n",
       "  <tbody>\n",
       "    <tr>\n",
       "      <td>Dem.Rep. of the Congo</td>\n",
       "      <td>188248.0</td>\n",
       "      <td>48.0</td>\n",
       "    </tr>\n",
       "    <tr>\n",
       "      <td>Kenya</td>\n",
       "      <td>30237033.0</td>\n",
       "      <td>1020463.0</td>\n",
       "    </tr>\n",
       "    <tr>\n",
       "      <td>Rwanda</td>\n",
       "      <td>869466.0</td>\n",
       "      <td>3096.0</td>\n",
       "    </tr>\n",
       "    <tr>\n",
       "      <td>United Arab Emirates</td>\n",
       "      <td>90939.0</td>\n",
       "      <td>243939.0</td>\n",
       "    </tr>\n",
       "    <tr>\n",
       "      <td>United Rep. of Tanzania</td>\n",
       "      <td>533366.0</td>\n",
       "      <td>65472.0</td>\n",
       "    </tr>\n",
       "  </tbody>\n",
       "</table>\n",
       "</div>"
      ],
      "text/plain": [
       "Trade Flow                  Exports    Imports\n",
       "Partner                                       \n",
       "Dem.Rep. of the Congo      188248.0       48.0\n",
       "Kenya                    30237033.0  1020463.0\n",
       "Rwanda                     869466.0     3096.0\n",
       "United Arab Emirates        90939.0   243939.0\n",
       "United Rep. of Tanzania    533366.0    65472.0"
      ]
     },
     "execution_count": 14,
     "metadata": {},
     "output_type": "execute_result"
    }
   ],
   "source": [
    "countries.dropna()"
   ]
  },
  {
   "cell_type": "markdown",
   "metadata": {},
   "source": [
    "## Conclusions\n",
    "\n",
    "The milk and cream trade of the Uganda from January to December 2015 was analysed in terms of which countries the Uganda mostly depends on for income (exports) and goods (imports). Over the period, the Uganda had a trade surplus of over 1 million US dollars.\n",
    "\n",
    "Kenya is the main partner, but it exported from the Uganda almost the triple in value than it imported to the Uganda. \n",
    "\n",
    "The Uganda exported to over 100 countries during the period, but only imported from 24 countries, the main ones (top five by trade value) being not so geographically close (Kenya, Netherlands, United Arab Emirates, Oman, and South Africa). Kenya and Netherlands are the main importers that are not also main exporters except Kenya. \n",
    "\n",
    "The Uganda is heavily dependent on its regular customers, the 10 countries that buy all types of milk and cream every month. They contribute three quarters of the total export value.\n",
    "\n",
    "Although for some, the trade value (in US dollars) is suspiciously low, which raises questions about the data's accuracy.\n"
   ]
  }
 ],
 "metadata": {
  "kernelspec": {
   "display_name": "Python 3",
   "language": "python",
   "name": "python3"
  },
  "language_info": {
   "codemirror_mode": {
    "name": "ipython",
    "version": 3
   },
   "file_extension": ".py",
   "mimetype": "text/x-python",
   "name": "python",
   "nbconvert_exporter": "python",
   "pygments_lexer": "ipython3",
   "version": "3.7.4"
  }
 },
 "nbformat": 4,
 "nbformat_minor": 2
}
